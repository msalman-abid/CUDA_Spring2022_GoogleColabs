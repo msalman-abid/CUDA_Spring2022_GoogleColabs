{
  "nbformat": 4,
  "nbformat_minor": 0,
  "metadata": {
    "colab": {
      "name": "smartcrop_cuda.ipynb",
      "provenance": [],
      "collapsed_sections": [],
      "include_colab_link": true
    },
    "kernelspec": {
      "name": "python3",
      "display_name": "Python 3"
    },
    "language_info": {
      "name": "python"
    }
  },
  "cells": [
    {
      "cell_type": "markdown",
      "metadata": {
        "id": "view-in-github",
        "colab_type": "text"
      },
      "source": [
        "<a href=\"https://colab.research.google.com/github/msalman-abid/CUDA_Spring2022_GoogleColabs/blob/main/smartcrop_cuda.ipynb\" target=\"_parent\"><img src=\"https://colab.research.google.com/assets/colab-badge.svg\" alt=\"Open In Colab\"/></a>"
      ]
    },
    {
      "cell_type": "code",
      "execution_count": 1,
      "metadata": {
        "colab": {
          "base_uri": "https://localhost:8080/"
        },
        "id": "UTuaHG0vryRN",
        "outputId": "e5c68fda-70e1-4570-cf59-1e0adf60ece5"
      },
      "outputs": [
        {
          "output_type": "stream",
          "name": "stdout",
          "text": [
            "/usr/local\n",
            "  File: cuda -> /usr/local/cuda-10.0\n",
            "  Size: 20        \tBlocks: 0          IO Block: 4096   symbolic link\n",
            "Device: 24h/36d\tInode: 2632276     Links: 1\n",
            "Access: (0777/lrwxrwxrwx)  Uid: (    0/    root)   Gid: (    0/    root)\n",
            "Access: 2022-04-08 04:29:57.363457553 +0000\n",
            "Modify: 2022-04-08 04:29:57.253458415 +0000\n",
            "Change: 2022-04-08 04:29:57.253458415 +0000\n",
            " Birth: -\n",
            "/content\n"
          ]
        }
      ],
      "source": [
        "%cd /usr/local/\n",
        "!rm -rf cuda\n",
        "!ln -s /usr/local/cuda-10.0 /usr/local/cuda\n",
        "!stat cuda\n",
        "%cd /content"
      ]
    },
    {
      "cell_type": "code",
      "source": [
        "!nvcc --version"
      ],
      "metadata": {
        "colab": {
          "base_uri": "https://localhost:8080/"
        },
        "id": "DaNUb1B8tGK6",
        "outputId": "5f8c6d0f-bb43-4e8c-e5d2-b46f31b0fb96"
      },
      "execution_count": 2,
      "outputs": [
        {
          "output_type": "stream",
          "name": "stdout",
          "text": [
            "nvcc: NVIDIA (R) Cuda compiler driver\n",
            "Copyright (c) 2005-2018 NVIDIA Corporation\n",
            "Built on Sat_Aug_25_21:08:01_CDT_2018\n",
            "Cuda compilation tools, release 10.0, V10.0.130\n"
          ]
        }
      ]
    },
    {
      "cell_type": "code",
      "source": [
        "from skimage import io\n",
        "from PIL import Image\n",
        "image = Image.fromarray(io.imread(\"https://placekitten.com/800/571\"))\n",
        "image.save(\"kitten.png\")"
      ],
      "metadata": {
        "id": "caxEj8V1cWtA"
      },
      "execution_count": 25,
      "outputs": []
    },
    {
      "cell_type": "code",
      "source": [
        "%%writefile smartcrop.cu\n",
        "#include <stdio.h>\n",
        "#include <time.h>\n",
        "\n",
        "// OpenCV Imports\n",
        "#include <opencv2/imgproc.hpp>\n",
        "#include <opencv2/imgcodecs.hpp>\n",
        "#include <opencv2/highgui.hpp>\n",
        "\n",
        "#define ARR_SIZE 1024\n",
        "#define BLK_SIZE 1024 // threads in each block\n",
        "\n",
        "#define WIDTH = 512;\n",
        "#define HEIGHT = 512;\n",
        "#define SIZE = WIDTH*HEIGHT;\n",
        "#define IMAGE_SIZE_IN_BYTES = SIZE * sizeof(unsigned int) * 4; // 4 channel image of HxW dimensions\n",
        "\n",
        "inline cudaError_t checkCudaErr(cudaError_t err, const char* msg) {\n",
        "  if (err != cudaSuccess) {\n",
        "    fprintf(stderr, \"CUDA Runtime error at %s: %s\\n\", msg, cudaGetErrorString(err));\n",
        "  }\n",
        "  return err;\n",
        "}\n",
        "\n",
        "//void edgeDetectHost(int* i_data, int* o_data)\n",
        "\n",
        "using namespace cv;\n",
        "\n",
        "int main(int argc, char** argv)\n",
        "{\n",
        "  \n",
        "    Mat src, src_gray, dst;\n",
        "    int kernel_size = 3;\n",
        "    int scale = 1;\n",
        "    int delta = 0;\n",
        "    int ddepth = CV_16S;\n",
        "    \n",
        "    const char* imageName = argc >=2 ? argv[1] : \"kitten.png\";\n",
        "    \n",
        "\n",
        "    src = imread( imageName, IMREAD_COLOR ); // Load an image\n",
        "    \n",
        "    // Check if image is loaded fine\n",
        "    if(src.empty()){\n",
        "        printf(\" Error opening image\\n\");\n",
        "        return -1;\n",
        "    }\n",
        " \n",
        "    // Reduce noise by blurring with a Gaussian filter ( kernel size = 3 )\n",
        "    GaussianBlur( src, src, Size(3, 3), 0, 0, BORDER_DEFAULT );\n",
        "    cvtColor( src, src_gray, COLOR_BGR2GRAY ); // Convert the image to grayscale\n",
        "    \n",
        "    Mat abs_dst;\n",
        "    Laplacian( src_gray, dst, ddepth, kernel_size, scale, delta, BORDER_DEFAULT );\n",
        "    \n",
        "    // converting back to CV_8U\n",
        "    convertScaleAbs( dst, abs_dst );\n",
        "    \n",
        "    imwrite(\"kitten_laplace.png\", abs_dst);\n",
        "\n",
        "\n",
        "}"
      ],
      "metadata": {
        "colab": {
          "base_uri": "https://localhost:8080/"
        },
        "id": "TmURsbwyUcyZ",
        "outputId": "abaf96ab-5521-43ff-9594-d8fc21348c7c"
      },
      "execution_count": 35,
      "outputs": [
        {
          "output_type": "stream",
          "name": "stdout",
          "text": [
            "Overwriting smartcrop.cu\n"
          ]
        }
      ]
    },
    {
      "cell_type": "code",
      "source": [
        "!nvcc /content/smartcrop.cu -o smartcrop `pkg-config --cflags --libs opencv`"
      ],
      "metadata": {
        "id": "sAHeA1vLtJ5q"
      },
      "execution_count": 37,
      "outputs": []
    },
    {
      "cell_type": "code",
      "source": [
        "!./smartcrop"
      ],
      "metadata": {
        "id": "heFe3XJIu-0r"
      },
      "execution_count": 38,
      "outputs": []
    }
  ]
}